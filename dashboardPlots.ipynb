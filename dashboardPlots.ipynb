{
 "cells": [
  {
   "cell_type": "code",
   "execution_count": 1,
   "metadata": {},
   "outputs": [
    {
     "name": "stderr",
     "output_type": "stream",
     "text": [
      "/Users/rsn/miniconda2/lib/python3.7/site-packages/xarray/backends/cfgrib_.py:28: UserWarning: Failed to load cfgrib - most likely there is a problem accessing the ecCodes library. Try `import cfgrib` to get the full error message\n",
      "  \"Failed to load cfgrib - most likely there is a problem accessing the ecCodes library. \"\n"
     ]
    }
   ],
   "source": [
    "import dashboardFunctions as dashFunc\n",
    "from datetime import datetime\n",
    "import pandas as pd\n",
    "from loguru import logger\n"
   ]
  },
  {
   "cell_type": "code",
   "execution_count": 2,
   "metadata": {},
   "outputs": [
    {
     "data": {
      "text/plain": [
       "1"
      ]
     },
     "execution_count": 2,
     "metadata": {},
     "output_type": "execute_result"
    }
   ],
   "source": [
    "### setup logging file\n",
    "logger.add(\"logfile_create_dashboard_{time}.log\")"
   ]
  },
  {
   "cell_type": "code",
   "execution_count": 3,
   "metadata": {},
   "outputs": [],
   "source": [
    "### create dictionary of sites key for filePrefix, nearestNeighbors\n",
    "sites_dict = pd.read_csv('params/sitesDictionaryPanel.csv').set_index('refDes').T.to_dict('series')\n",
    "\n",
    "### create dictionary of parameter vs variable Name\n",
    "variable_dict = pd.read_csv('params/variableMap.csv', index_col=0, squeeze=True).to_dict()\n",
    "\n",
    "### create dictionary of instrumet key for plot parameters\n",
    "instrument_dict = pd.read_csv('params/plotParameters.csv').set_index('instrument').T.to_dict('series')\n",
    "\n",
    "### create dictionary of variable parameters for plotting\n",
    "variable_paramDict = pd.read_csv('params/variableParameters.csv').set_index('variable').T.to_dict('series')\n",
    "\n",
    "#plotDir = '/Users/rsn/Desktop/FileCabinet/RCA_tools/QAQC_dashboard/QAQCplots/'\n",
    "plotDir = 'QAQCplotsTEST/'"
   ]
  },
  {
   "cell_type": "code",
   "execution_count": 4,
   "metadata": {},
   "outputs": [],
   "source": [
    "timeString = '2020-06-30'\n",
    "timeRef = datetime.strptime(timeString, '%Y-%m-%d')\n",
    "plotInstrument = 'CTD-PROFILER'\n",
    "#plotInstrument = 'CTD-FIXED'\n",
    "#timeRef = date.today()\n",
    "\n",
    "### options...instrument, timeReference, range"
   ]
  },
  {
   "cell_type": "code",
   "execution_count": 5,
   "metadata": {},
   "outputs": [],
   "source": [
    "### For each param in instrument, append to list of params in checkbox\n",
    "paramList=[]\n",
    "for param in instrument_dict[plotInstrument]['plotParameters'].replace('\"','').split(','):\n",
    "    paramList.append(param)\n"
   ]
  },
  {
   "cell_type": "code",
   "execution_count": 6,
   "metadata": {},
   "outputs": [
    {
     "name": "stdout",
     "output_type": "stream",
     "text": [
      "['RS01SBPS-SF01A-2A-CTDPFA102', 'CE04OSPS-SF01B-2A-CTDPFA107', 'RS03AXPS-SF03A-2A-CTDPFA302']\n"
     ]
    }
   ],
   "source": [
    "dataList = []\n",
    "for key,values in sites_dict.items():\n",
    "    if plotInstrument in sites_dict[key]['instrument']:\n",
    "        dataList.append(key)\n",
    "    \n",
    "print(dataList)"
   ]
  },
  {
   "cell_type": "code",
   "execution_count": 7,
   "metadata": {},
   "outputs": [
    {
     "name": "stderr",
     "output_type": "stream",
     "text": [
      "2021-10-21 14:34:16.945 | INFO     | __main__:<module>:6 - site: CE04OSPS-SF01B-2A-CTDPFA107\n",
      "/Users/rsn/miniconda2/lib/python3.7/site-packages/xarray/backends/plugins.py:61: RuntimeWarning: Engine 'cfgrib' loading failed:\n",
      "Cannot find the ecCodes library\n",
      "  warnings.warn(f\"Engine {name!r} loading failed:\\n{ex}\", RuntimeWarning)\n",
      "2021-10-21 14:34:49.776 | INFO     | __main__:<module>:11 - paramter: temperature\n"
     ]
    },
    {
     "name": "stdout",
     "output_type": "stream",
     "text": [
      "plotting timeSpan:  1\n",
      "slice is empty!\n",
      "plotting timeSpan:  7\n",
      "slice is empty!\n",
      "plotting timeSpan:  30\n",
      "slice is empty!\n",
      "plotting timeSpan:  365\n"
     ]
    },
    {
     "ename": "KeyboardInterrupt",
     "evalue": "",
     "output_type": "error",
     "traceback": [
      "\u001b[0;31m---------------------------------------------------------------------------\u001b[0m",
      "\u001b[0;31mKeyboardInterrupt\u001b[0m                         Traceback (most recent call last)",
      "\u001b[0;32m~/miniconda2/lib/python3.7/site-packages/IPython/core/interactiveshell.py\u001b[0m in \u001b[0;36mrun_code\u001b[0;34m(self, code_obj, result, async_)\u001b[0m\n\u001b[1;32m   3318\u001b[0m                 \u001b[0;32melse\u001b[0m\u001b[0;34m:\u001b[0m\u001b[0;34m\u001b[0m\u001b[0;34m\u001b[0m\u001b[0m\n\u001b[0;32m-> 3319\u001b[0;31m                     \u001b[0mexec\u001b[0m\u001b[0;34m(\u001b[0m\u001b[0mcode_obj\u001b[0m\u001b[0;34m,\u001b[0m \u001b[0mself\u001b[0m\u001b[0;34m.\u001b[0m\u001b[0muser_global_ns\u001b[0m\u001b[0;34m,\u001b[0m \u001b[0mself\u001b[0m\u001b[0;34m.\u001b[0m\u001b[0muser_ns\u001b[0m\u001b[0;34m)\u001b[0m\u001b[0;34m\u001b[0m\u001b[0;34m\u001b[0m\u001b[0m\n\u001b[0m\u001b[1;32m   3320\u001b[0m             \u001b[0;32mfinally\u001b[0m\u001b[0;34m:\u001b[0m\u001b[0;34m\u001b[0m\u001b[0;34m\u001b[0m\u001b[0m\n",
      "\u001b[0;32m<ipython-input-7-6b548983cbf2>\u001b[0m in \u001b[0;36m<module>\u001b[0;34m\u001b[0m\n\u001b[1;32m     50\u001b[0m                         \u001b[0myMax\u001b[0m \u001b[0;34m=\u001b[0m \u001b[0mint\u001b[0m\u001b[0;34m(\u001b[0m\u001b[0mdepthMinMax\u001b[0m\u001b[0;34m[\u001b[0m\u001b[0;36m1\u001b[0m\u001b[0;34m]\u001b[0m\u001b[0;34m)\u001b[0m\u001b[0;34m\u001b[0m\u001b[0;34m\u001b[0m\u001b[0m\n\u001b[0;32m---> 51\u001b[0;31m                     \u001b[0mplots\u001b[0m \u001b[0;34m=\u001b[0m \u001b[0mdashFunc\u001b[0m\u001b[0;34m.\u001b[0m\u001b[0mplotProfilesGrid\u001b[0m\u001b[0;34m(\u001b[0m\u001b[0mYparam\u001b[0m\u001b[0;34m,\u001b[0m\u001b[0mparamData\u001b[0m\u001b[0;34m,\u001b[0m\u001b[0mplotTitle\u001b[0m\u001b[0;34m,\u001b[0m\u001b[0myLabel\u001b[0m\u001b[0;34m,\u001b[0m\u001b[0mtimeRef\u001b[0m\u001b[0;34m,\u001b[0m\u001b[0myMin\u001b[0m\u001b[0;34m,\u001b[0m\u001b[0myMax\u001b[0m\u001b[0;34m,\u001b[0m\u001b[0mprofile_paramMin\u001b[0m\u001b[0;34m,\u001b[0m\u001b[0mprofile_paramMax\u001b[0m\u001b[0;34m,\u001b[0m\u001b[0mcolorMap\u001b[0m\u001b[0;34m,\u001b[0m\u001b[0mimageName_base\u001b[0m\u001b[0;34m,\u001b[0m\u001b[0moverlayData_clim\u001b[0m\u001b[0;34m,\u001b[0m\u001b[0moverlayData_near\u001b[0m\u001b[0;34m)\u001b[0m\u001b[0;34m\u001b[0m\u001b[0;34m\u001b[0m\u001b[0m\n\u001b[0m\u001b[1;32m     52\u001b[0m                     \u001b[0mplotList\u001b[0m\u001b[0;34m.\u001b[0m\u001b[0mappend\u001b[0m\u001b[0;34m(\u001b[0m\u001b[0mplots\u001b[0m\u001b[0;34m)\u001b[0m\u001b[0;34m\u001b[0m\u001b[0;34m\u001b[0m\u001b[0m\n",
      "\u001b[0;32m~/Desktop/FileCabinet/RCA_tools/QAQC_dashboard/dashboardFunctions.py\u001b[0m in \u001b[0;36mplotProfilesGrid\u001b[0;34m(Yparam, paramData, plotTitle, zLabel, timeRef, yMin, yMax, zMin, zMax, colorMap, fileName_base, overlayData_clim, overlayData_near)\u001b[0m\n\u001b[1;32m    231\u001b[0m             \u001b[0mone_second\u001b[0m \u001b[0;34m=\u001b[0m \u001b[0mnp\u001b[0m\u001b[0;34m.\u001b[0m\u001b[0mtimedelta64\u001b[0m\u001b[0;34m(\u001b[0m\u001b[0;36m1\u001b[0m\u001b[0;34m,\u001b[0m \u001b[0;34m's'\u001b[0m\u001b[0;34m)\u001b[0m\u001b[0;34m\u001b[0m\u001b[0;34m\u001b[0m\u001b[0m\n\u001b[0;32m--> 232\u001b[0;31m             \u001b[0mscatterX_TS\u001b[0m \u001b[0;34m=\u001b[0m \u001b[0;34m[\u001b[0m\u001b[0;34m(\u001b[0m\u001b[0;34m(\u001b[0m\u001b[0mdt64\u001b[0m\u001b[0;34m-\u001b[0m\u001b[0munix_epoch\u001b[0m\u001b[0;34m)\u001b[0m \u001b[0;34m/\u001b[0m \u001b[0mone_second\u001b[0m\u001b[0;34m)\u001b[0m \u001b[0;32mfor\u001b[0m \u001b[0mdt64\u001b[0m \u001b[0;32min\u001b[0m \u001b[0mscatterX\u001b[0m\u001b[0;34m]\u001b[0m\u001b[0;34m\u001b[0m\u001b[0;34m\u001b[0m\u001b[0m\n\u001b[0m\u001b[1;32m    233\u001b[0m \u001b[0;34m\u001b[0m\u001b[0m\n",
      "\u001b[0;32m~/Desktop/FileCabinet/RCA_tools/QAQC_dashboard/dashboardFunctions.py\u001b[0m in \u001b[0;36m<listcomp>\u001b[0;34m(.0)\u001b[0m\n\u001b[1;32m    231\u001b[0m             \u001b[0mone_second\u001b[0m \u001b[0;34m=\u001b[0m \u001b[0mnp\u001b[0m\u001b[0;34m.\u001b[0m\u001b[0mtimedelta64\u001b[0m\u001b[0;34m(\u001b[0m\u001b[0;36m1\u001b[0m\u001b[0;34m,\u001b[0m \u001b[0;34m's'\u001b[0m\u001b[0;34m)\u001b[0m\u001b[0;34m\u001b[0m\u001b[0;34m\u001b[0m\u001b[0m\n\u001b[0;32m--> 232\u001b[0;31m             \u001b[0mscatterX_TS\u001b[0m \u001b[0;34m=\u001b[0m \u001b[0;34m[\u001b[0m\u001b[0;34m(\u001b[0m\u001b[0;34m(\u001b[0m\u001b[0mdt64\u001b[0m\u001b[0;34m-\u001b[0m\u001b[0munix_epoch\u001b[0m\u001b[0;34m)\u001b[0m \u001b[0;34m/\u001b[0m \u001b[0mone_second\u001b[0m\u001b[0;34m)\u001b[0m \u001b[0;32mfor\u001b[0m \u001b[0mdt64\u001b[0m \u001b[0;32min\u001b[0m \u001b[0mscatterX\u001b[0m\u001b[0;34m]\u001b[0m\u001b[0;34m\u001b[0m\u001b[0;34m\u001b[0m\u001b[0m\n\u001b[0m\u001b[1;32m    233\u001b[0m \u001b[0;34m\u001b[0m\u001b[0m\n",
      "\u001b[0;31mKeyboardInterrupt\u001b[0m: ",
      "\nDuring handling of the above exception, another exception occurred:\n",
      "\u001b[0;31mKeyboardInterrupt\u001b[0m                         Traceback (most recent call last)",
      "\u001b[0;31mKeyboardInterrupt\u001b[0m: "
     ]
    },
    {
     "data": {
      "image/png": "[encoded data removed]",
      "text/plain": [
       "<Figure size 406.8x126 with 1 Axes>"
      ]
     },
     "metadata": {},
     "output_type": "display_data"
    }
   ],
   "source": [
    "dataListTest = dataList[1:2]\n",
    "paramListTest = paramList[0:1]\n",
    "\n",
    "for site in dataListTest:\n",
    "    plotList = []\n",
    "    logger.info(\"site: {}\", site)\n",
    "    # load data for site\n",
    "    siteData = dashFunc.loadData(site,sites_dict)\n",
    "    fileParams = sites_dict[site]['dataParameters'].strip('\"').split(',')\n",
    "    for param in paramList:\n",
    "        logger.info(\"paramter: {}\", param)\n",
    "        variableParams = variable_dict[param].strip('\"').split(',')\n",
    "        parameterList = [value for value in variableParams if value in fileParams] \n",
    "        if len(parameterList) != 1:\n",
    "            logger.info(\"Error retriving parameter name...\")\n",
    "        else:\n",
    "            Yparam = parameterList[0]\n",
    "            # set up plotting parameters\n",
    "            imageName_base = plotDir + site + '_' + param  \n",
    "            plotTitle = site + ' ' + param\n",
    "            paramMin = variable_paramDict[param]['min']\n",
    "            paramMax = variable_paramDict[param]['max']\n",
    "            profile_paramMin = variable_paramDict[param]['profileMin']\n",
    "            profile_paramMax = variable_paramDict[param]['profileMax']\n",
    "            yLabel = variable_paramDict[param]['label']\n",
    "        \n",
    "            # Load overlayData\n",
    "            overlayData_clim = {}\n",
    "            overlayData_grossRange = {}\n",
    "            sensorType = site.split('-')[3][0:5].lower()\n",
    "            (overlayData_grossRange, overlayData_clim) = dashFunc.loadQARTOD(site,Yparam,sensorType)\n",
    "            overlayData_near = {}\n",
    "            #overlayData_near = loadNear(site)\n",
    "        \n",
    "            if 'PROFILER' in plotInstrument:\n",
    "                #TODO extract profiles???\n",
    "                profile_paramMin = variable_paramDict[param]['profileMin']\n",
    "                profile_paramMax = variable_paramDict[param]['profileMax']\n",
    "                pressureParams = variable_dict['pressure'].strip('\"').split(',')\n",
    "                pressureParamList = [value for value in pressureParams if value in fileParams]\n",
    "                if len(pressureParamList) != 1:\n",
    "                    logger.info(\"Error retriving pressure parameter!\")\n",
    "                else:\n",
    "                    pressParam = pressureParamList[0]\n",
    "                    paramData = siteData[[Yparam,pressParam]]\n",
    "                    colorMap = 'cmo.' + variable_paramDict[param]['colorMap']\n",
    "                    depthMinMax = sites_dict[site]['depthMinMax'].strip('\"').split(',')\n",
    "                    if 'None' not in depthMinMax:\n",
    "                        yMin = int(depthMinMax[0])\n",
    "                        yMax = int(depthMinMax[1])\n",
    "                    plots = dashFunc.plotProfilesGrid(Yparam,paramData,plotTitle,yLabel,timeRef,yMin,yMax,profile_paramMin,profile_paramMax,colorMap,imageName_base,overlayData_clim,overlayData_near)\n",
    "                    plotList.append(plots)\n",
    "                    depths = sites_dict[site]['depths'].strip('\"').split(',')\n",
    "                    if 'Single' not in depths:\n",
    "                        for profileDepth in depths:\n",
    "                            paramData_depth = paramData[Yparam].where((int(profileDepth) < paramData[pressParam]) & (paramData[pressParam] < (int(profileDepth)+0.5)))\n",
    "                            plotTitle_depth = plotTitle + ': ' + profileDepth + ' meters'\n",
    "                            imageName_base_depth = imageName_base + '_' + profileDepth + 'meters'\n",
    "                            if overlayData_clim:\n",
    "                                overlayData_clim_extract = dashFunc.extractClim(timeRef,profileDepth,overlayData_clim)\n",
    "                            else:\n",
    "                                overlayData_clim_extract = pd.DataFrame()\n",
    "                            plots = dashFunc.plotScatter(Yparam,paramData_depth,plotTitle_depth,yLabel,timeRef,profile_paramMin,profile_paramMax,imageName_base_depth,overlayData_clim_extract,overlayData_near,'medium')\n",
    "                            plotList.append(plots)\n",
    "            else:\n",
    "                paramData = siteData[Yparam]\n",
    "                if overlayData_clim:\n",
    "                    overlayData_clim_extract = dashFunc.extractClim(timeRef,'0',overlayData_clim)\n",
    "                else:\n",
    "                    overlayData_clim_extract = pd.DataFrame()\n",
    "                # PLOT\n",
    "                plots = dashFunc.plotScatter(Yparam,paramData,plotTitle,yLabel,timeRef,paramMin,paramMax,imageName_base,overlayData_clim_extract,overlayData_near,'small')\n",
    "                plotList.append(plots)\n",
    "\n",
    "            del paramData\n",
    "            gc.collect()\n",
    "    del siteData\n",
    "    gc.collect()\n",
    "                 "
   ]
  },
  {
   "cell_type": "code",
   "execution_count": null,
   "metadata": {},
   "outputs": [],
   "source": []
  }
 ],
 "metadata": {
  "kernelspec": {
   "display_name": "Python 3",
   "language": "python",
   "name": "python3"
  },
  "language_info": {
   "codemirror_mode": {
    "name": "ipython",
    "version": 3
   },
   "file_extension": ".py",
   "mimetype": "text/x-python",
   "name": "python",
   "nbconvert_exporter": "python",
   "pygments_lexer": "ipython3",
   "version": "3.7.5"
  }
 },
 "nbformat": 4,
 "nbformat_minor": 4
}
